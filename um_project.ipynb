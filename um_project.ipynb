{
 "cells": [
  {
   "cell_type": "markdown",
   "id": "b7e34762-5e17-4a02-bde3-8ca079d3f7d0",
   "metadata": {},
   "source": [
    "# First program\n",
    "\n",
    "This is my first program"
   ]
  },
  {
   "cell_type": "code",
   "execution_count": 2,
   "id": "751a3071-c47c-4e1c-b411-1bcc48a5c8cf",
   "metadata": {
    "scrolled": true
   },
   "outputs": [
    {
     "name": "stdout",
     "output_type": "stream",
     "text": [
      "hello woprld\n"
     ]
    }
   ],
   "source": [
    "print('hello woprld')"
   ]
  },
  {
   "cell_type": "code",
   "execution_count": 2,
   "id": "5e4b0493-c667-4c9d-934a-1794e612e1fe",
   "metadata": {},
   "outputs": [
    {
     "name": "stdout",
     "output_type": "stream",
     "text": [
      "Requirement already satisfied: pandas in c:\\users\\pc\\appdata\\local\\programs\\python\\python312\\lib\\site-packages (2.2.0)\n",
      "Requirement already satisfied: numpy<2,>=1.26.0 in c:\\users\\pc\\appdata\\local\\programs\\python\\python312\\lib\\site-packages (from pandas) (1.26.4)\n",
      "Requirement already satisfied: python-dateutil>=2.8.2 in c:\\users\\pc\\appdata\\local\\programs\\python\\python312\\lib\\site-packages (from pandas) (2.8.2)\n",
      "Requirement already satisfied: pytz>=2020.1 in c:\\users\\pc\\appdata\\local\\programs\\python\\python312\\lib\\site-packages (from pandas) (2024.1)\n",
      "Requirement already satisfied: tzdata>=2022.7 in c:\\users\\pc\\appdata\\local\\programs\\python\\python312\\lib\\site-packages (from pandas) (2024.1)\n",
      "Requirement already satisfied: six>=1.5 in c:\\users\\pc\\appdata\\local\\programs\\python\\python312\\lib\\site-packages (from python-dateutil>=2.8.2->pandas) (1.16.0)\n",
      "Requirement already satisfied: seaborn in c:\\users\\pc\\appdata\\local\\programs\\python\\python312\\lib\\site-packages (0.13.2)\n",
      "Requirement already satisfied: numpy!=1.24.0,>=1.20 in c:\\users\\pc\\appdata\\local\\programs\\python\\python312\\lib\\site-packages (from seaborn) (1.26.4)\n",
      "Requirement already satisfied: pandas>=1.2 in c:\\users\\pc\\appdata\\local\\programs\\python\\python312\\lib\\site-packages (from seaborn) (2.2.0)\n",
      "Requirement already satisfied: matplotlib!=3.6.1,>=3.4 in c:\\users\\pc\\appdata\\local\\programs\\python\\python312\\lib\\site-packages (from seaborn) (3.8.2)\n",
      "Requirement already satisfied: contourpy>=1.0.1 in c:\\users\\pc\\appdata\\local\\programs\\python\\python312\\lib\\site-packages (from matplotlib!=3.6.1,>=3.4->seaborn) (1.2.0)\n",
      "Requirement already satisfied: cycler>=0.10 in c:\\users\\pc\\appdata\\local\\programs\\python\\python312\\lib\\site-packages (from matplotlib!=3.6.1,>=3.4->seaborn) (0.12.1)\n",
      "Requirement already satisfied: fonttools>=4.22.0 in c:\\users\\pc\\appdata\\local\\programs\\python\\python312\\lib\\site-packages (from matplotlib!=3.6.1,>=3.4->seaborn) (4.48.1)\n",
      "Requirement already satisfied: kiwisolver>=1.3.1 in c:\\users\\pc\\appdata\\local\\programs\\python\\python312\\lib\\site-packages (from matplotlib!=3.6.1,>=3.4->seaborn) (1.4.5)\n",
      "Requirement already satisfied: packaging>=20.0 in c:\\users\\pc\\appdata\\local\\programs\\python\\python312\\lib\\site-packages (from matplotlib!=3.6.1,>=3.4->seaborn) (23.2)\n",
      "Requirement already satisfied: pillow>=8 in c:\\users\\pc\\appdata\\local\\programs\\python\\python312\\lib\\site-packages (from matplotlib!=3.6.1,>=3.4->seaborn) (10.2.0)\n",
      "Requirement already satisfied: pyparsing>=2.3.1 in c:\\users\\pc\\appdata\\local\\programs\\python\\python312\\lib\\site-packages (from matplotlib!=3.6.1,>=3.4->seaborn) (3.1.1)\n",
      "Requirement already satisfied: python-dateutil>=2.7 in c:\\users\\pc\\appdata\\local\\programs\\python\\python312\\lib\\site-packages (from matplotlib!=3.6.1,>=3.4->seaborn) (2.8.2)\n",
      "Requirement already satisfied: pytz>=2020.1 in c:\\users\\pc\\appdata\\local\\programs\\python\\python312\\lib\\site-packages (from pandas>=1.2->seaborn) (2024.1)\n",
      "Requirement already satisfied: tzdata>=2022.7 in c:\\users\\pc\\appdata\\local\\programs\\python\\python312\\lib\\site-packages (from pandas>=1.2->seaborn) (2024.1)\n",
      "Requirement already satisfied: six>=1.5 in c:\\users\\pc\\appdata\\local\\programs\\python\\python312\\lib\\site-packages (from python-dateutil>=2.7->matplotlib!=3.6.1,>=3.4->seaborn) (1.16.0)\n"
     ]
    }
   ],
   "source": [
    "!pip install pandas\n",
    "!pip install seaborn"
   ]
  },
  {
   "cell_type": "code",
   "execution_count": 2,
   "id": "e43bd765-70fe-4922-a46f-6b0290781ead",
   "metadata": {
    "scrolled": true
   },
   "outputs": [
    {
     "name": "stderr",
     "output_type": "stream",
     "text": [
      "C:\\Users\\PC\\AppData\\Local\\Temp\\ipykernel_7824\\3526466215.py:1: DeprecationWarning: \n",
      "Pyarrow will become a required dependency of pandas in the next major release of pandas (pandas 3.0),\n",
      "(to allow more performant data types, such as the Arrow string type, and better interoperability with other libraries)\n",
      "but was not found to be installed on your system.\n",
      "If this would cause problems for you,\n",
      "please provide us feedback at https://github.com/pandas-dev/pandas/issues/54466\n",
      "        \n",
      "  import pandas as pd\n"
     ]
    }
   ],
   "source": [
    "import pandas as pd \n",
    "import seaborn as sns"
   ]
  },
  {
   "cell_type": "code",
   "execution_count": 3,
   "id": "56df7749-8fd1-4c26-ad5c-7e50bb3e8acb",
   "metadata": {},
   "outputs": [
    {
     "name": "stderr",
     "output_type": "stream",
     "text": [
      "C:\\Users\\PC\\AppData\\Local\\Temp\\ipykernel_7824\\2350612576.py:1: DtypeWarning: Columns (11) have mixed types. Specify dtype option on import or set low_memory=False.\n",
      "  df = pd.read_csv(\"TWO_CENTURIES_OF_UM_RACES.csv\")\n"
     ]
    }
   ],
   "source": [
    "df = pd.read_csv(\"TWO_CENTURIES_OF_UM_RACES.csv\")"
   ]
  },
  {
   "cell_type": "code",
   "execution_count": 4,
   "id": "6f6482b6-e1b8-4186-95f1-133f916064ae",
   "metadata": {},
   "outputs": [
    {
     "data": {
      "text/plain": [
       "(7461195, 13)"
      ]
     },
     "execution_count": 4,
     "metadata": {},
     "output_type": "execute_result"
    }
   ],
   "source": [
    "#wielkosc bazy danych\n",
    "\n",
    "df.shape"
   ]
  },
  {
   "cell_type": "code",
   "execution_count": 5,
   "id": "d4eefe3e-ffdb-4f34-b587-fd64db0a7966",
   "metadata": {},
   "outputs": [],
   "source": [
    "df2 = df[(df[\"Event distance/length\"].isin(['50km']))   &  (df['Year of event'] == 2019) \n",
    "& (df['Event name'].str.split('(').str.get(1).str.split(')').str.get(0) == 'POL')]\n"
   ]
  },
  {
   "cell_type": "code",
   "execution_count": 6,
   "id": "88086e4a-8720-49b6-9b2d-c810e7800228",
   "metadata": {},
   "outputs": [
    {
     "data": {
      "text/plain": [
       "(810, 13)"
      ]
     },
     "execution_count": 6,
     "metadata": {},
     "output_type": "execute_result"
    }
   ],
   "source": [
    "df2.shape"
   ]
  },
  {
   "cell_type": "code",
   "execution_count": 7,
   "id": "57259491-73ce-4ced-a778-583745447d5f",
   "metadata": {},
   "outputs": [
    {
     "name": "stderr",
     "output_type": "stream",
     "text": [
      "C:\\Users\\PC\\AppData\\Local\\Temp\\ipykernel_7824\\961556408.py:3: SettingWithCopyWarning: \n",
      "A value is trying to be set on a copy of a slice from a DataFrame.\n",
      "Try using .loc[row_indexer,col_indexer] = value instead\n",
      "\n",
      "See the caveats in the documentation: https://pandas.pydata.org/pandas-docs/stable/user_guide/indexing.html#returning-a-view-versus-a-copy\n",
      "  df2['Event name'] = df2['Event name'].str.split('(').str.get(0)\n"
     ]
    }
   ],
   "source": [
    "#remove POL from event name\n",
    "\n",
    "df2['Event name'] = df2['Event name'].str.split('(').str.get(0)"
   ]
  },
  {
   "cell_type": "code",
   "execution_count": 8,
   "id": "aa063fcf-8e85-4c08-85c6-2c7cc5779e0b",
   "metadata": {},
   "outputs": [
    {
     "data": {
      "text/html": [
       "<div>\n",
       "<style scoped>\n",
       "    .dataframe tbody tr th:only-of-type {\n",
       "        vertical-align: middle;\n",
       "    }\n",
       "\n",
       "    .dataframe tbody tr th {\n",
       "        vertical-align: top;\n",
       "    }\n",
       "\n",
       "    .dataframe thead th {\n",
       "        text-align: right;\n",
       "    }\n",
       "</style>\n",
       "<table border=\"1\" class=\"dataframe\">\n",
       "  <thead>\n",
       "    <tr style=\"text-align: right;\">\n",
       "      <th></th>\n",
       "      <th>Year of event</th>\n",
       "      <th>Event dates</th>\n",
       "      <th>Event name</th>\n",
       "      <th>Event distance/length</th>\n",
       "      <th>Event number of finishers</th>\n",
       "      <th>Athlete performance</th>\n",
       "      <th>Athlete club</th>\n",
       "      <th>Athlete country</th>\n",
       "      <th>Athlete year of birth</th>\n",
       "      <th>Athlete gender</th>\n",
       "      <th>Athlete age category</th>\n",
       "      <th>Athlete average speed</th>\n",
       "      <th>Athlete ID</th>\n",
       "    </tr>\n",
       "  </thead>\n",
       "  <tbody>\n",
       "    <tr>\n",
       "      <th>1873698</th>\n",
       "      <td>2019</td>\n",
       "      <td>27.04.2019</td>\n",
       "      <td>Ultramaraton Podkarpacki 50km</td>\n",
       "      <td>50km</td>\n",
       "      <td>172</td>\n",
       "      <td>3:57:28 h</td>\n",
       "      <td>Jaroslawska Grupa Bieg...</td>\n",
       "      <td>POL</td>\n",
       "      <td>1987.0</td>\n",
       "      <td>M</td>\n",
       "      <td>M23</td>\n",
       "      <td>12.633</td>\n",
       "      <td>321631</td>\n",
       "    </tr>\n",
       "    <tr>\n",
       "      <th>1873699</th>\n",
       "      <td>2019</td>\n",
       "      <td>27.04.2019</td>\n",
       "      <td>Ultramaraton Podkarpacki 50km</td>\n",
       "      <td>50km</td>\n",
       "      <td>172</td>\n",
       "      <td>3:58:03 h</td>\n",
       "      <td>*Warszawa</td>\n",
       "      <td>POL</td>\n",
       "      <td>1983.0</td>\n",
       "      <td>M</td>\n",
       "      <td>M35</td>\n",
       "      <td>12.602</td>\n",
       "      <td>227705</td>\n",
       "    </tr>\n",
       "    <tr>\n",
       "      <th>1873700</th>\n",
       "      <td>2019</td>\n",
       "      <td>27.04.2019</td>\n",
       "      <td>Ultramaraton Podkarpacki 50km</td>\n",
       "      <td>50km</td>\n",
       "      <td>172</td>\n",
       "      <td>4:04:21 h</td>\n",
       "      <td>*Rzeszow</td>\n",
       "      <td>POL</td>\n",
       "      <td>1987.0</td>\n",
       "      <td>M</td>\n",
       "      <td>M23</td>\n",
       "      <td>12.277</td>\n",
       "      <td>211723</td>\n",
       "    </tr>\n",
       "    <tr>\n",
       "      <th>1873701</th>\n",
       "      <td>2019</td>\n",
       "      <td>27.04.2019</td>\n",
       "      <td>Ultramaraton Podkarpacki 50km</td>\n",
       "      <td>50km</td>\n",
       "      <td>172</td>\n",
       "      <td>4:07:03 h</td>\n",
       "      <td>Rzeszowskie Gazele I G...</td>\n",
       "      <td>POL</td>\n",
       "      <td>1986.0</td>\n",
       "      <td>M</td>\n",
       "      <td>M23</td>\n",
       "      <td>12.143</td>\n",
       "      <td>204917</td>\n",
       "    </tr>\n",
       "    <tr>\n",
       "      <th>1873702</th>\n",
       "      <td>2019</td>\n",
       "      <td>27.04.2019</td>\n",
       "      <td>Ultramaraton Podkarpacki 50km</td>\n",
       "      <td>50km</td>\n",
       "      <td>172</td>\n",
       "      <td>4:22:36 h</td>\n",
       "      <td>Asseco Active Team</td>\n",
       "      <td>POL</td>\n",
       "      <td>1982.0</td>\n",
       "      <td>M</td>\n",
       "      <td>M35</td>\n",
       "      <td>11.424</td>\n",
       "      <td>661097</td>\n",
       "    </tr>\n",
       "  </tbody>\n",
       "</table>\n",
       "</div>"
      ],
      "text/plain": [
       "         Year of event Event dates                      Event name  \\\n",
       "1873698           2019  27.04.2019  Ultramaraton Podkarpacki 50km    \n",
       "1873699           2019  27.04.2019  Ultramaraton Podkarpacki 50km    \n",
       "1873700           2019  27.04.2019  Ultramaraton Podkarpacki 50km    \n",
       "1873701           2019  27.04.2019  Ultramaraton Podkarpacki 50km    \n",
       "1873702           2019  27.04.2019  Ultramaraton Podkarpacki 50km    \n",
       "\n",
       "        Event distance/length  Event number of finishers Athlete performance  \\\n",
       "1873698                  50km                        172           3:57:28 h   \n",
       "1873699                  50km                        172           3:58:03 h   \n",
       "1873700                  50km                        172           4:04:21 h   \n",
       "1873701                  50km                        172           4:07:03 h   \n",
       "1873702                  50km                        172           4:22:36 h   \n",
       "\n",
       "                      Athlete club Athlete country  Athlete year of birth  \\\n",
       "1873698  Jaroslawska Grupa Bieg...             POL                 1987.0   \n",
       "1873699                  *Warszawa             POL                 1983.0   \n",
       "1873700                   *Rzeszow             POL                 1987.0   \n",
       "1873701  Rzeszowskie Gazele I G...             POL                 1986.0   \n",
       "1873702         Asseco Active Team             POL                 1982.0   \n",
       "\n",
       "        Athlete gender Athlete age category Athlete average speed  Athlete ID  \n",
       "1873698              M                  M23                12.633      321631  \n",
       "1873699              M                  M35                12.602      227705  \n",
       "1873700              M                  M23                12.277      211723  \n",
       "1873701              M                  M23                12.143      204917  \n",
       "1873702              M                  M35                11.424      661097  "
      ]
     },
     "execution_count": 8,
     "metadata": {},
     "output_type": "execute_result"
    }
   ],
   "source": [
    "df2.head(5)"
   ]
  },
  {
   "cell_type": "code",
   "execution_count": 9,
   "id": "b37c45aa-e3a3-489e-b56b-68a203d4e50d",
   "metadata": {},
   "outputs": [],
   "source": [
    "#clean up athlete athlete age"
   ]
  },
  {
   "cell_type": "code",
   "execution_count": 10,
   "id": "524d2227-91e1-44de-ba74-2325e595afae",
   "metadata": {},
   "outputs": [
    {
     "name": "stderr",
     "output_type": "stream",
     "text": [
      "C:\\Users\\PC\\AppData\\Local\\Temp\\ipykernel_7824\\691980035.py:1: SettingWithCopyWarning: \n",
      "A value is trying to be set on a copy of a slice from a DataFrame.\n",
      "Try using .loc[row_indexer,col_indexer] = value instead\n",
      "\n",
      "See the caveats in the documentation: https://pandas.pydata.org/pandas-docs/stable/user_guide/indexing.html#returning-a-view-versus-a-copy\n",
      "  df2['athlete age'] = 2019 - df2['Athlete year of birth']\n"
     ]
    }
   ],
   "source": [
    "df2['athlete age'] = 2019 - df2['Athlete year of birth']"
   ]
  },
  {
   "cell_type": "code",
   "execution_count": 11,
   "id": "c6bdb48a-5fae-485d-985a-df1e3fdb8300",
   "metadata": {},
   "outputs": [
    {
     "name": "stderr",
     "output_type": "stream",
     "text": [
      "C:\\Users\\PC\\AppData\\Local\\Temp\\ipykernel_7824\\2946046738.py:2: SettingWithCopyWarning: \n",
      "A value is trying to be set on a copy of a slice from a DataFrame.\n",
      "Try using .loc[row_indexer,col_indexer] = value instead\n",
      "\n",
      "See the caveats in the documentation: https://pandas.pydata.org/pandas-docs/stable/user_guide/indexing.html#returning-a-view-versus-a-copy\n",
      "  df2['Athlete performance'] = df2['Athlete performance'].str.split(' ').str.get(0)\n"
     ]
    }
   ],
   "source": [
    "#removing h from athlete performance\n",
    "df2['Athlete performance'] = df2['Athlete performance'].str.split(' ').str.get(0)\n"
   ]
  },
  {
   "cell_type": "code",
   "execution_count": 12,
   "id": "dff66965-89c4-460a-979b-28513d86de8f",
   "metadata": {
    "scrolled": true
   },
   "outputs": [
    {
     "name": "stderr",
     "output_type": "stream",
     "text": [
      "C:\\Users\\PC\\AppData\\Local\\Temp\\ipykernel_7824\\785354258.py:3: SettingWithCopyWarning: \n",
      "A value is trying to be set on a copy of a slice from a DataFrame.\n",
      "Try using .loc[row_indexer,col_indexer] = value instead\n",
      "\n",
      "See the caveats in the documentation: https://pandas.pydata.org/pandas-docs/stable/user_guide/indexing.html#returning-a-view-versus-a-copy\n",
      "  df2['Athlete age category'] = df2['Athlete age category'].replace(['M23', 'W23', 'M35', 'W35','M40','W40','M45', 'W45','M50', 'W50','M55', 'W55','M60', 'W60','M65', 'W65','MU23'],\n"
     ]
    }
   ],
   "source": [
    "#removing h from athlete performance\n",
    "\n",
    "df2['Athlete age category'] = df2['Athlete age category'].replace(['M23', 'W23', 'M35', 'W35','M40','W40','M45', 'W45','M50', 'W50','M55', 'W55','M60', 'W60','M65', 'W65','MU23'],\n",
    "                 ['23', '23', '35','35','45','45','45','45','50','50','55','55','60','60','65','65','23'])\n"
   ]
  },
  {
   "cell_type": "code",
   "execution_count": 13,
   "id": "5fcb2a22-42e6-40dc-8e84-7c9f6e418e31",
   "metadata": {},
   "outputs": [],
   "source": [
    "#drop columns: Athlete Club, Athlete year of birth\n",
    "df2 = df2.drop(['Athlete club','Athlete year of birth','Event number of finishers'], axis = 1)"
   ]
  },
  {
   "cell_type": "code",
   "execution_count": 14,
   "id": "6803a3bf-7a6d-4bc1-9a7e-c8f7f4d081ed",
   "metadata": {},
   "outputs": [
    {
     "data": {
      "text/plain": [
       "Year of event             0\n",
       "Event dates               0\n",
       "Event name                0\n",
       "Event distance/length     0\n",
       "Athlete performance       0\n",
       "Athlete country           0\n",
       "Athlete gender            0\n",
       "Athlete age category     93\n",
       "Athlete average speed     0\n",
       "Athlete ID                0\n",
       "athlete age              93\n",
       "dtype: int64"
      ]
     },
     "execution_count": 14,
     "metadata": {},
     "output_type": "execute_result"
    }
   ],
   "source": [
    "#cleanin null values\n",
    "\n",
    "df2.isna().sum()"
   ]
  },
  {
   "cell_type": "code",
   "execution_count": 15,
   "id": "18ae2fbd-07f1-4630-a304-400a0ec83c84",
   "metadata": {},
   "outputs": [
    {
     "data": {
      "text/html": [
       "<div>\n",
       "<style scoped>\n",
       "    .dataframe tbody tr th:only-of-type {\n",
       "        vertical-align: middle;\n",
       "    }\n",
       "\n",
       "    .dataframe tbody tr th {\n",
       "        vertical-align: top;\n",
       "    }\n",
       "\n",
       "    .dataframe thead th {\n",
       "        text-align: right;\n",
       "    }\n",
       "</style>\n",
       "<table border=\"1\" class=\"dataframe\">\n",
       "  <thead>\n",
       "    <tr style=\"text-align: right;\">\n",
       "      <th></th>\n",
       "      <th>Year of event</th>\n",
       "      <th>Event dates</th>\n",
       "      <th>Event name</th>\n",
       "      <th>Event distance/length</th>\n",
       "      <th>Athlete performance</th>\n",
       "      <th>Athlete country</th>\n",
       "      <th>Athlete gender</th>\n",
       "      <th>Athlete age category</th>\n",
       "      <th>Athlete average speed</th>\n",
       "      <th>Athlete ID</th>\n",
       "      <th>athlete age</th>\n",
       "    </tr>\n",
       "  </thead>\n",
       "  <tbody>\n",
       "    <tr>\n",
       "      <th>2134927</th>\n",
       "      <td>2019</td>\n",
       "      <td>22.06.2019</td>\n",
       "      <td>Ultra Przesilenie - Sobotka</td>\n",
       "      <td>50km</td>\n",
       "      <td>5:27:27</td>\n",
       "      <td>POL</td>\n",
       "      <td>M</td>\n",
       "      <td>NaN</td>\n",
       "      <td>9.162</td>\n",
       "      <td>211747</td>\n",
       "      <td>NaN</td>\n",
       "    </tr>\n",
       "    <tr>\n",
       "      <th>2134934</th>\n",
       "      <td>2019</td>\n",
       "      <td>22.06.2019</td>\n",
       "      <td>Ultra Przesilenie - Sobotka</td>\n",
       "      <td>50km</td>\n",
       "      <td>5:44:27</td>\n",
       "      <td>POL</td>\n",
       "      <td>M</td>\n",
       "      <td>NaN</td>\n",
       "      <td>8.71</td>\n",
       "      <td>211777</td>\n",
       "      <td>NaN</td>\n",
       "    </tr>\n",
       "    <tr>\n",
       "      <th>2134938</th>\n",
       "      <td>2019</td>\n",
       "      <td>22.06.2019</td>\n",
       "      <td>Ultra Przesilenie - Sobotka</td>\n",
       "      <td>50km</td>\n",
       "      <td>5:54:29</td>\n",
       "      <td>POL</td>\n",
       "      <td>F</td>\n",
       "      <td>NaN</td>\n",
       "      <td>8.463</td>\n",
       "      <td>719088</td>\n",
       "      <td>NaN</td>\n",
       "    </tr>\n",
       "    <tr>\n",
       "      <th>2134940</th>\n",
       "      <td>2019</td>\n",
       "      <td>22.06.2019</td>\n",
       "      <td>Ultra Przesilenie - Sobotka</td>\n",
       "      <td>50km</td>\n",
       "      <td>5:55:22</td>\n",
       "      <td>POL</td>\n",
       "      <td>M</td>\n",
       "      <td>NaN</td>\n",
       "      <td>8.442</td>\n",
       "      <td>211737</td>\n",
       "      <td>NaN</td>\n",
       "    </tr>\n",
       "    <tr>\n",
       "      <th>2134954</th>\n",
       "      <td>2019</td>\n",
       "      <td>22.06.2019</td>\n",
       "      <td>Ultra Przesilenie - Sobotka</td>\n",
       "      <td>50km</td>\n",
       "      <td>6:37:06</td>\n",
       "      <td>POL</td>\n",
       "      <td>M</td>\n",
       "      <td>NaN</td>\n",
       "      <td>7.555</td>\n",
       "      <td>719092</td>\n",
       "      <td>NaN</td>\n",
       "    </tr>\n",
       "    <tr>\n",
       "      <th>...</th>\n",
       "      <td>...</td>\n",
       "      <td>...</td>\n",
       "      <td>...</td>\n",
       "      <td>...</td>\n",
       "      <td>...</td>\n",
       "      <td>...</td>\n",
       "      <td>...</td>\n",
       "      <td>...</td>\n",
       "      <td>...</td>\n",
       "      <td>...</td>\n",
       "      <td>...</td>\n",
       "    </tr>\n",
       "    <tr>\n",
       "      <th>2437849</th>\n",
       "      <td>2019</td>\n",
       "      <td>06.10.2019</td>\n",
       "      <td>Ultra Silesia Marathon</td>\n",
       "      <td>50km</td>\n",
       "      <td>5:28:06</td>\n",
       "      <td>POL</td>\n",
       "      <td>M</td>\n",
       "      <td>NaN</td>\n",
       "      <td>9.144</td>\n",
       "      <td>787024</td>\n",
       "      <td>NaN</td>\n",
       "    </tr>\n",
       "    <tr>\n",
       "      <th>2437852</th>\n",
       "      <td>2019</td>\n",
       "      <td>06.10.2019</td>\n",
       "      <td>Ultra Silesia Marathon</td>\n",
       "      <td>50km</td>\n",
       "      <td>5:32:26</td>\n",
       "      <td>POL</td>\n",
       "      <td>M</td>\n",
       "      <td>NaN</td>\n",
       "      <td>9.024</td>\n",
       "      <td>787026</td>\n",
       "      <td>NaN</td>\n",
       "    </tr>\n",
       "    <tr>\n",
       "      <th>2437858</th>\n",
       "      <td>2019</td>\n",
       "      <td>06.10.2019</td>\n",
       "      <td>Ultra Silesia Marathon</td>\n",
       "      <td>50km</td>\n",
       "      <td>5:42:54</td>\n",
       "      <td>POL</td>\n",
       "      <td>M</td>\n",
       "      <td>NaN</td>\n",
       "      <td>8.749</td>\n",
       "      <td>787029</td>\n",
       "      <td>NaN</td>\n",
       "    </tr>\n",
       "    <tr>\n",
       "      <th>2437860</th>\n",
       "      <td>2019</td>\n",
       "      <td>06.10.2019</td>\n",
       "      <td>Ultra Silesia Marathon</td>\n",
       "      <td>50km</td>\n",
       "      <td>5:49:00</td>\n",
       "      <td>POL</td>\n",
       "      <td>M</td>\n",
       "      <td>NaN</td>\n",
       "      <td>8.596</td>\n",
       "      <td>399692</td>\n",
       "      <td>NaN</td>\n",
       "    </tr>\n",
       "    <tr>\n",
       "      <th>2437861</th>\n",
       "      <td>2019</td>\n",
       "      <td>06.10.2019</td>\n",
       "      <td>Ultra Silesia Marathon</td>\n",
       "      <td>50km</td>\n",
       "      <td>5:50:55</td>\n",
       "      <td>POL</td>\n",
       "      <td>M</td>\n",
       "      <td>NaN</td>\n",
       "      <td>8.549</td>\n",
       "      <td>787031</td>\n",
       "      <td>NaN</td>\n",
       "    </tr>\n",
       "  </tbody>\n",
       "</table>\n",
       "<p>93 rows × 11 columns</p>\n",
       "</div>"
      ],
      "text/plain": [
       "         Year of event Event dates                    Event name  \\\n",
       "2134927           2019  22.06.2019  Ultra Przesilenie - Sobotka    \n",
       "2134934           2019  22.06.2019  Ultra Przesilenie - Sobotka    \n",
       "2134938           2019  22.06.2019  Ultra Przesilenie - Sobotka    \n",
       "2134940           2019  22.06.2019  Ultra Przesilenie - Sobotka    \n",
       "2134954           2019  22.06.2019  Ultra Przesilenie - Sobotka    \n",
       "...                ...         ...                           ...   \n",
       "2437849           2019  06.10.2019       Ultra Silesia Marathon    \n",
       "2437852           2019  06.10.2019       Ultra Silesia Marathon    \n",
       "2437858           2019  06.10.2019       Ultra Silesia Marathon    \n",
       "2437860           2019  06.10.2019       Ultra Silesia Marathon    \n",
       "2437861           2019  06.10.2019       Ultra Silesia Marathon    \n",
       "\n",
       "        Event distance/length Athlete performance Athlete country  \\\n",
       "2134927                  50km             5:27:27             POL   \n",
       "2134934                  50km             5:44:27             POL   \n",
       "2134938                  50km             5:54:29             POL   \n",
       "2134940                  50km             5:55:22             POL   \n",
       "2134954                  50km             6:37:06             POL   \n",
       "...                       ...                 ...             ...   \n",
       "2437849                  50km             5:28:06             POL   \n",
       "2437852                  50km             5:32:26             POL   \n",
       "2437858                  50km             5:42:54             POL   \n",
       "2437860                  50km             5:49:00             POL   \n",
       "2437861                  50km             5:50:55             POL   \n",
       "\n",
       "        Athlete gender Athlete age category Athlete average speed  Athlete ID  \\\n",
       "2134927              M                  NaN                 9.162      211747   \n",
       "2134934              M                  NaN                  8.71      211777   \n",
       "2134938              F                  NaN                 8.463      719088   \n",
       "2134940              M                  NaN                 8.442      211737   \n",
       "2134954              M                  NaN                 7.555      719092   \n",
       "...                ...                  ...                   ...         ...   \n",
       "2437849              M                  NaN                 9.144      787024   \n",
       "2437852              M                  NaN                 9.024      787026   \n",
       "2437858              M                  NaN                 8.749      787029   \n",
       "2437860              M                  NaN                 8.596      399692   \n",
       "2437861              M                  NaN                 8.549      787031   \n",
       "\n",
       "         athlete age  \n",
       "2134927          NaN  \n",
       "2134934          NaN  \n",
       "2134938          NaN  \n",
       "2134940          NaN  \n",
       "2134954          NaN  \n",
       "...              ...  \n",
       "2437849          NaN  \n",
       "2437852          NaN  \n",
       "2437858          NaN  \n",
       "2437860          NaN  \n",
       "2437861          NaN  \n",
       "\n",
       "[93 rows x 11 columns]"
      ]
     },
     "execution_count": 15,
     "metadata": {},
     "output_type": "execute_result"
    }
   ],
   "source": [
    "df2[df2['athlete age'].isna()==1]"
   ]
  },
  {
   "cell_type": "code",
   "execution_count": 16,
   "id": "6b36f08d-994f-487e-8005-8a00d3647c06",
   "metadata": {},
   "outputs": [],
   "source": [
    "df2 = df2.dropna()"
   ]
  },
  {
   "cell_type": "code",
   "execution_count": 17,
   "id": "8068c475-e15e-433f-863f-50e893872231",
   "metadata": {},
   "outputs": [
    {
     "data": {
      "text/plain": [
       "(717, 11)"
      ]
     },
     "execution_count": 17,
     "metadata": {},
     "output_type": "execute_result"
    }
   ],
   "source": [
    "df2.shape"
   ]
  },
  {
   "cell_type": "code",
   "execution_count": 18,
   "id": "a37d5275-9f0a-482d-8f87-85556bf75482",
   "metadata": {},
   "outputs": [
    {
     "data": {
      "text/html": [
       "<div>\n",
       "<style scoped>\n",
       "    .dataframe tbody tr th:only-of-type {\n",
       "        vertical-align: middle;\n",
       "    }\n",
       "\n",
       "    .dataframe tbody tr th {\n",
       "        vertical-align: top;\n",
       "    }\n",
       "\n",
       "    .dataframe thead th {\n",
       "        text-align: right;\n",
       "    }\n",
       "</style>\n",
       "<table border=\"1\" class=\"dataframe\">\n",
       "  <thead>\n",
       "    <tr style=\"text-align: right;\">\n",
       "      <th></th>\n",
       "      <th>Year of event</th>\n",
       "      <th>Event dates</th>\n",
       "      <th>Event name</th>\n",
       "      <th>Event distance/length</th>\n",
       "      <th>Athlete performance</th>\n",
       "      <th>Athlete country</th>\n",
       "      <th>Athlete gender</th>\n",
       "      <th>Athlete age category</th>\n",
       "      <th>Athlete average speed</th>\n",
       "      <th>Athlete ID</th>\n",
       "      <th>athlete age</th>\n",
       "    </tr>\n",
       "  </thead>\n",
       "  <tbody>\n",
       "  </tbody>\n",
       "</table>\n",
       "</div>"
      ],
      "text/plain": [
       "Empty DataFrame\n",
       "Columns: [Year of event, Event dates, Event name, Event distance/length, Athlete performance, Athlete country, Athlete gender, Athlete age category, Athlete average speed, Athlete ID, athlete age]\n",
       "Index: []"
      ]
     },
     "execution_count": 18,
     "metadata": {},
     "output_type": "execute_result"
    }
   ],
   "source": [
    "#check for dupes\n",
    "df2[df2.duplicated() == True]\n"
   ]
  },
  {
   "cell_type": "code",
   "execution_count": 19,
   "id": "09502cee-991e-47df-9466-29937c6637c0",
   "metadata": {},
   "outputs": [
    {
     "data": {
      "text/html": [
       "<div>\n",
       "<style scoped>\n",
       "    .dataframe tbody tr th:only-of-type {\n",
       "        vertical-align: middle;\n",
       "    }\n",
       "\n",
       "    .dataframe tbody tr th {\n",
       "        vertical-align: top;\n",
       "    }\n",
       "\n",
       "    .dataframe thead th {\n",
       "        text-align: right;\n",
       "    }\n",
       "</style>\n",
       "<table border=\"1\" class=\"dataframe\">\n",
       "  <thead>\n",
       "    <tr style=\"text-align: right;\">\n",
       "      <th></th>\n",
       "      <th>Year of event</th>\n",
       "      <th>Event dates</th>\n",
       "      <th>Event name</th>\n",
       "      <th>Event distance/length</th>\n",
       "      <th>Athlete performance</th>\n",
       "      <th>Athlete country</th>\n",
       "      <th>Athlete gender</th>\n",
       "      <th>Athlete age category</th>\n",
       "      <th>Athlete average speed</th>\n",
       "      <th>Athlete ID</th>\n",
       "      <th>athlete age</th>\n",
       "    </tr>\n",
       "  </thead>\n",
       "  <tbody>\n",
       "    <tr>\n",
       "      <th>0</th>\n",
       "      <td>2019</td>\n",
       "      <td>27.04.2019</td>\n",
       "      <td>Ultramaraton Podkarpacki 50km</td>\n",
       "      <td>50km</td>\n",
       "      <td>3:57:28</td>\n",
       "      <td>POL</td>\n",
       "      <td>M</td>\n",
       "      <td>23</td>\n",
       "      <td>12.633</td>\n",
       "      <td>321631</td>\n",
       "      <td>32.0</td>\n",
       "    </tr>\n",
       "    <tr>\n",
       "      <th>1</th>\n",
       "      <td>2019</td>\n",
       "      <td>27.04.2019</td>\n",
       "      <td>Ultramaraton Podkarpacki 50km</td>\n",
       "      <td>50km</td>\n",
       "      <td>3:58:03</td>\n",
       "      <td>POL</td>\n",
       "      <td>M</td>\n",
       "      <td>35</td>\n",
       "      <td>12.602</td>\n",
       "      <td>227705</td>\n",
       "      <td>36.0</td>\n",
       "    </tr>\n",
       "    <tr>\n",
       "      <th>2</th>\n",
       "      <td>2019</td>\n",
       "      <td>27.04.2019</td>\n",
       "      <td>Ultramaraton Podkarpacki 50km</td>\n",
       "      <td>50km</td>\n",
       "      <td>4:04:21</td>\n",
       "      <td>POL</td>\n",
       "      <td>M</td>\n",
       "      <td>23</td>\n",
       "      <td>12.277</td>\n",
       "      <td>211723</td>\n",
       "      <td>32.0</td>\n",
       "    </tr>\n",
       "    <tr>\n",
       "      <th>3</th>\n",
       "      <td>2019</td>\n",
       "      <td>27.04.2019</td>\n",
       "      <td>Ultramaraton Podkarpacki 50km</td>\n",
       "      <td>50km</td>\n",
       "      <td>4:07:03</td>\n",
       "      <td>POL</td>\n",
       "      <td>M</td>\n",
       "      <td>23</td>\n",
       "      <td>12.143</td>\n",
       "      <td>204917</td>\n",
       "      <td>33.0</td>\n",
       "    </tr>\n",
       "    <tr>\n",
       "      <th>4</th>\n",
       "      <td>2019</td>\n",
       "      <td>27.04.2019</td>\n",
       "      <td>Ultramaraton Podkarpacki 50km</td>\n",
       "      <td>50km</td>\n",
       "      <td>4:22:36</td>\n",
       "      <td>POL</td>\n",
       "      <td>M</td>\n",
       "      <td>35</td>\n",
       "      <td>11.424</td>\n",
       "      <td>661097</td>\n",
       "      <td>37.0</td>\n",
       "    </tr>\n",
       "    <tr>\n",
       "      <th>...</th>\n",
       "      <td>...</td>\n",
       "      <td>...</td>\n",
       "      <td>...</td>\n",
       "      <td>...</td>\n",
       "      <td>...</td>\n",
       "      <td>...</td>\n",
       "      <td>...</td>\n",
       "      <td>...</td>\n",
       "      <td>...</td>\n",
       "      <td>...</td>\n",
       "      <td>...</td>\n",
       "    </tr>\n",
       "    <tr>\n",
       "      <th>712</th>\n",
       "      <td>2019</td>\n",
       "      <td>06.10.2019</td>\n",
       "      <td>Ultra Silesia Marathon</td>\n",
       "      <td>50km</td>\n",
       "      <td>5:41:07</td>\n",
       "      <td>UKR</td>\n",
       "      <td>M</td>\n",
       "      <td>23</td>\n",
       "      <td>8.795</td>\n",
       "      <td>787028</td>\n",
       "      <td>26.0</td>\n",
       "    </tr>\n",
       "    <tr>\n",
       "      <th>713</th>\n",
       "      <td>2019</td>\n",
       "      <td>06.10.2019</td>\n",
       "      <td>Ultra Silesia Marathon</td>\n",
       "      <td>50km</td>\n",
       "      <td>5:41:19</td>\n",
       "      <td>POL</td>\n",
       "      <td>M</td>\n",
       "      <td>50</td>\n",
       "      <td>8.789</td>\n",
       "      <td>83807</td>\n",
       "      <td>52.0</td>\n",
       "    </tr>\n",
       "    <tr>\n",
       "      <th>714</th>\n",
       "      <td>2019</td>\n",
       "      <td>06.10.2019</td>\n",
       "      <td>Ultra Silesia Marathon</td>\n",
       "      <td>50km</td>\n",
       "      <td>5:47:16</td>\n",
       "      <td>POL</td>\n",
       "      <td>M</td>\n",
       "      <td>35</td>\n",
       "      <td>8.639</td>\n",
       "      <td>787030</td>\n",
       "      <td>40.0</td>\n",
       "    </tr>\n",
       "    <tr>\n",
       "      <th>715</th>\n",
       "      <td>2019</td>\n",
       "      <td>06.10.2019</td>\n",
       "      <td>Ultra Silesia Marathon</td>\n",
       "      <td>50km</td>\n",
       "      <td>5:51:22</td>\n",
       "      <td>POL</td>\n",
       "      <td>M</td>\n",
       "      <td>55</td>\n",
       "      <td>8.538</td>\n",
       "      <td>19463</td>\n",
       "      <td>57.0</td>\n",
       "    </tr>\n",
       "    <tr>\n",
       "      <th>716</th>\n",
       "      <td>2019</td>\n",
       "      <td>06.10.2019</td>\n",
       "      <td>Ultra Silesia Marathon</td>\n",
       "      <td>50km</td>\n",
       "      <td>6:04:08</td>\n",
       "      <td>POL</td>\n",
       "      <td>M</td>\n",
       "      <td>35</td>\n",
       "      <td>8.239</td>\n",
       "      <td>47796</td>\n",
       "      <td>38.0</td>\n",
       "    </tr>\n",
       "  </tbody>\n",
       "</table>\n",
       "<p>717 rows × 11 columns</p>\n",
       "</div>"
      ],
      "text/plain": [
       "     Year of event Event dates                      Event name  \\\n",
       "0             2019  27.04.2019  Ultramaraton Podkarpacki 50km    \n",
       "1             2019  27.04.2019  Ultramaraton Podkarpacki 50km    \n",
       "2             2019  27.04.2019  Ultramaraton Podkarpacki 50km    \n",
       "3             2019  27.04.2019  Ultramaraton Podkarpacki 50km    \n",
       "4             2019  27.04.2019  Ultramaraton Podkarpacki 50km    \n",
       "..             ...         ...                             ...   \n",
       "712           2019  06.10.2019         Ultra Silesia Marathon    \n",
       "713           2019  06.10.2019         Ultra Silesia Marathon    \n",
       "714           2019  06.10.2019         Ultra Silesia Marathon    \n",
       "715           2019  06.10.2019         Ultra Silesia Marathon    \n",
       "716           2019  06.10.2019         Ultra Silesia Marathon    \n",
       "\n",
       "    Event distance/length Athlete performance Athlete country Athlete gender  \\\n",
       "0                    50km             3:57:28             POL              M   \n",
       "1                    50km             3:58:03             POL              M   \n",
       "2                    50km             4:04:21             POL              M   \n",
       "3                    50km             4:07:03             POL              M   \n",
       "4                    50km             4:22:36             POL              M   \n",
       "..                    ...                 ...             ...            ...   \n",
       "712                  50km             5:41:07             UKR              M   \n",
       "713                  50km             5:41:19             POL              M   \n",
       "714                  50km             5:47:16             POL              M   \n",
       "715                  50km             5:51:22             POL              M   \n",
       "716                  50km             6:04:08             POL              M   \n",
       "\n",
       "    Athlete age category Athlete average speed  Athlete ID  athlete age  \n",
       "0                     23                12.633      321631         32.0  \n",
       "1                     35                12.602      227705         36.0  \n",
       "2                     23                12.277      211723         32.0  \n",
       "3                     23                12.143      204917         33.0  \n",
       "4                     35                11.424      661097         37.0  \n",
       "..                   ...                   ...         ...          ...  \n",
       "712                   23                 8.795      787028         26.0  \n",
       "713                   50                 8.789       83807         52.0  \n",
       "714                   35                 8.639      787030         40.0  \n",
       "715                   55                 8.538       19463         57.0  \n",
       "716                   35                 8.239       47796         38.0  \n",
       "\n",
       "[717 rows x 11 columns]"
      ]
     },
     "execution_count": 19,
     "metadata": {},
     "output_type": "execute_result"
    }
   ],
   "source": [
    "#reset index\n",
    "\n",
    "df2.reset_index(drop = True)"
   ]
  },
  {
   "cell_type": "code",
   "execution_count": 20,
   "id": "33ab376e-9ffc-4d2a-93e8-117caaf3bed4",
   "metadata": {},
   "outputs": [
    {
     "data": {
      "text/plain": [
       "Year of event              int64\n",
       "Event dates               object\n",
       "Event name                object\n",
       "Event distance/length     object\n",
       "Athlete performance       object\n",
       "Athlete country           object\n",
       "Athlete gender            object\n",
       "Athlete age category      object\n",
       "Athlete average speed     object\n",
       "Athlete ID                 int64\n",
       "athlete age              float64\n",
       "dtype: object"
      ]
     },
     "execution_count": 20,
     "metadata": {},
     "output_type": "execute_result"
    }
   ],
   "source": [
    "#fix type\n",
    "\n",
    "df2.dtypes"
   ]
  },
  {
   "cell_type": "code",
   "execution_count": 21,
   "id": "c6f4bfe2-7afb-412d-a87a-9b33e190fb81",
   "metadata": {},
   "outputs": [
    {
     "data": {
      "text/plain": [
       "Year of event              int64\n",
       "Event dates               object\n",
       "Event name                object\n",
       "Event distance/length     object\n",
       "Athlete performance       object\n",
       "Athlete country           object\n",
       "Athlete gender            object\n",
       "Athlete age category       int32\n",
       "Athlete average speed    float64\n",
       "Athlete ID                 int64\n",
       "athlete age                int32\n",
       "dtype: object"
      ]
     },
     "execution_count": 21,
     "metadata": {},
     "output_type": "execute_result"
    }
   ],
   "source": [
    "df2['athlete age'] =df2['athlete age'].astype(int)\n",
    "df2['Athlete average speed'] =df2['Athlete average speed'].astype(float)\n",
    "df2['Athlete age category'] =df2['Athlete age category'].astype(int)\n",
    "df2.dtypes"
   ]
  },
  {
   "cell_type": "code",
   "execution_count": 22,
   "id": "d56045c0-2cbe-44a2-a729-4bc16b88da25",
   "metadata": {
    "scrolled": true
   },
   "outputs": [],
   "source": [
    "#rename columns\n",
    "df3 = df2.rename(columns ={\n",
    "'Year of event': 'year',\n",
    "'Event dates':'race_day',\n",
    "'Event distance/length' :'event',  \n",
    "'Athlete performance':'performance',\n",
    "})"
   ]
  },
  {
   "cell_type": "code",
   "execution_count": 23,
   "id": "10a7b2aa-d10f-4b0f-b8fb-51223b4ccfb6",
   "metadata": {},
   "outputs": [
    {
     "data": {
      "text/plain": [
       "<Axes: xlabel='Athlete gender', ylabel='Count'>"
      ]
     },
     "execution_count": 23,
     "metadata": {},
     "output_type": "execute_result"
    },
    {
     "data": {
      "image/png": "[encoded data removed]",
      "text/plain": [
       "<Figure size 640x480 with 1 Axes>"
      ]
     },
     "metadata": {},
     "output_type": "display_data"
    }
   ],
   "source": [
    "\n",
    "\n",
    "sns.histplot(df3,x ='Athlete gender', hue ='Athlete age category',multiple=\"stack\", palette ='rocket')"
   ]
  },
  {
   "cell_type": "code",
   "execution_count": 24,
   "id": "ea0d0643-f0cb-4852-b66d-02d44c4d1665",
   "metadata": {},
   "outputs": [
    {
     "data": {
      "text/plain": [
       "<Axes: xlabel='event', ylabel='Athlete average speed'>"
      ]
     },
     "execution_count": 24,
     "metadata": {},
     "output_type": "execute_result"
    },
    {
     "data": {
      "image/png": "[encoded data removed]",
      "text/plain": [
       "<Figure size 640x480 with 1 Axes>"
      ]
     },
     "metadata": {},
     "output_type": "display_data"
    }
   ],
   "source": [
    "sns.violinplot(data=df3,x='event',y='Athlete average speed', hue ='Athlete gender',split =True, inner ='quartile')"
   ]
  },
  {
   "cell_type": "code",
   "execution_count": 25,
   "id": "683c6d7e-e57c-4f94-99f8-fde8a52e03e1",
   "metadata": {},
   "outputs": [
    {
     "data": {
      "text/plain": [
       "<seaborn.axisgrid.FacetGrid at 0x208cc9a3f80>"
      ]
     },
     "execution_count": 25,
     "metadata": {},
     "output_type": "execute_result"
    },
    {
     "data": {
      "image/png": "[encoded data removed]",
      "text/plain": [
       "<Figure size 614.611x500 with 1 Axes>"
      ]
     },
     "metadata": {},
     "output_type": "display_data"
    }
   ],
   "source": [
    "sns.lmplot(data=df3, x ='athlete age', y ='Athlete average speed', hue ='Athlete gender')"
   ]
  },
  {
   "cell_type": "code",
   "execution_count": 26,
   "id": "1830bfd7-fe70-4ce9-bae5-befa9494af72",
   "metadata": {},
   "outputs": [
    {
     "data": {
      "text/plain": [
       "Athlete gender\n",
       "F    7.622093\n",
       "M    8.570803\n",
       "Name: Athlete average speed, dtype: float64"
      ]
     },
     "execution_count": 26,
     "metadata": {},
     "output_type": "execute_result"
    }
   ],
   "source": [
    "df3.groupby(['Athlete gender'])['Athlete average speed'].mean()"
   ]
  },
  {
   "cell_type": "code",
   "execution_count": 27,
   "id": "e9b6831c-cb8e-47d9-adce-652fe2bf7ac6",
   "metadata": {},
   "outputs": [
    {
     "data": {
      "text/html": [
       "<div>\n",
       "<style scoped>\n",
       "    .dataframe tbody tr th:only-of-type {\n",
       "        vertical-align: middle;\n",
       "    }\n",
       "\n",
       "    .dataframe tbody tr th {\n",
       "        vertical-align: top;\n",
       "    }\n",
       "\n",
       "    .dataframe thead th {\n",
       "        text-align: right;\n",
       "    }\n",
       "</style>\n",
       "<table border=\"1\" class=\"dataframe\">\n",
       "  <thead>\n",
       "    <tr style=\"text-align: right;\">\n",
       "      <th></th>\n",
       "      <th>mean</th>\n",
       "      <th>count</th>\n",
       "    </tr>\n",
       "    <tr>\n",
       "      <th>athlete age</th>\n",
       "      <th></th>\n",
       "      <th></th>\n",
       "    </tr>\n",
       "  </thead>\n",
       "  <tbody>\n",
       "    <tr>\n",
       "      <th>49</th>\n",
       "      <td>9.940231</td>\n",
       "      <td>13</td>\n",
       "    </tr>\n",
       "    <tr>\n",
       "      <th>57</th>\n",
       "      <td>9.394333</td>\n",
       "      <td>6</td>\n",
       "    </tr>\n",
       "    <tr>\n",
       "      <th>28</th>\n",
       "      <td>9.365818</td>\n",
       "      <td>22</td>\n",
       "    </tr>\n",
       "    <tr>\n",
       "      <th>46</th>\n",
       "      <td>9.049182</td>\n",
       "      <td>33</td>\n",
       "    </tr>\n",
       "    <tr>\n",
       "      <th>25</th>\n",
       "      <td>9.028167</td>\n",
       "      <td>6</td>\n",
       "    </tr>\n",
       "    <tr>\n",
       "      <th>53</th>\n",
       "      <td>8.879727</td>\n",
       "      <td>11</td>\n",
       "    </tr>\n",
       "    <tr>\n",
       "      <th>32</th>\n",
       "      <td>8.753000</td>\n",
       "      <td>26</td>\n",
       "    </tr>\n",
       "    <tr>\n",
       "      <th>44</th>\n",
       "      <td>8.737943</td>\n",
       "      <td>35</td>\n",
       "    </tr>\n",
       "    <tr>\n",
       "      <th>30</th>\n",
       "      <td>8.722176</td>\n",
       "      <td>17</td>\n",
       "    </tr>\n",
       "    <tr>\n",
       "      <th>50</th>\n",
       "      <td>8.647444</td>\n",
       "      <td>9</td>\n",
       "    </tr>\n",
       "    <tr>\n",
       "      <th>45</th>\n",
       "      <td>8.544077</td>\n",
       "      <td>26</td>\n",
       "    </tr>\n",
       "    <tr>\n",
       "      <th>39</th>\n",
       "      <td>8.510529</td>\n",
       "      <td>34</td>\n",
       "    </tr>\n",
       "    <tr>\n",
       "      <th>40</th>\n",
       "      <td>8.465273</td>\n",
       "      <td>44</td>\n",
       "    </tr>\n",
       "    <tr>\n",
       "      <th>27</th>\n",
       "      <td>8.385167</td>\n",
       "      <td>12</td>\n",
       "    </tr>\n",
       "    <tr>\n",
       "      <th>33</th>\n",
       "      <td>8.382625</td>\n",
       "      <td>32</td>\n",
       "    </tr>\n",
       "    <tr>\n",
       "      <th>52</th>\n",
       "      <td>8.370750</td>\n",
       "      <td>12</td>\n",
       "    </tr>\n",
       "    <tr>\n",
       "      <th>37</th>\n",
       "      <td>8.323586</td>\n",
       "      <td>29</td>\n",
       "    </tr>\n",
       "    <tr>\n",
       "      <th>54</th>\n",
       "      <td>8.256667</td>\n",
       "      <td>9</td>\n",
       "    </tr>\n",
       "    <tr>\n",
       "      <th>34</th>\n",
       "      <td>8.231273</td>\n",
       "      <td>33</td>\n",
       "    </tr>\n",
       "    <tr>\n",
       "      <th>43</th>\n",
       "      <td>8.197667</td>\n",
       "      <td>39</td>\n",
       "    </tr>\n",
       "    <tr>\n",
       "      <th>35</th>\n",
       "      <td>8.154571</td>\n",
       "      <td>28</td>\n",
       "    </tr>\n",
       "    <tr>\n",
       "      <th>36</th>\n",
       "      <td>8.137324</td>\n",
       "      <td>34</td>\n",
       "    </tr>\n",
       "    <tr>\n",
       "      <th>29</th>\n",
       "      <td>8.125600</td>\n",
       "      <td>10</td>\n",
       "    </tr>\n",
       "    <tr>\n",
       "      <th>47</th>\n",
       "      <td>8.065050</td>\n",
       "      <td>20</td>\n",
       "    </tr>\n",
       "    <tr>\n",
       "      <th>38</th>\n",
       "      <td>8.052794</td>\n",
       "      <td>34</td>\n",
       "    </tr>\n",
       "    <tr>\n",
       "      <th>42</th>\n",
       "      <td>8.008353</td>\n",
       "      <td>34</td>\n",
       "    </tr>\n",
       "    <tr>\n",
       "      <th>41</th>\n",
       "      <td>7.935688</td>\n",
       "      <td>32</td>\n",
       "    </tr>\n",
       "    <tr>\n",
       "      <th>31</th>\n",
       "      <td>7.917955</td>\n",
       "      <td>22</td>\n",
       "    </tr>\n",
       "    <tr>\n",
       "      <th>51</th>\n",
       "      <td>7.913818</td>\n",
       "      <td>11</td>\n",
       "    </tr>\n",
       "    <tr>\n",
       "      <th>48</th>\n",
       "      <td>7.787125</td>\n",
       "      <td>16</td>\n",
       "    </tr>\n",
       "    <tr>\n",
       "      <th>26</th>\n",
       "      <td>7.517000</td>\n",
       "      <td>8</td>\n",
       "    </tr>\n",
       "  </tbody>\n",
       "</table>\n",
       "</div>"
      ],
      "text/plain": [
       "                 mean  count\n",
       "athlete age                 \n",
       "49           9.940231     13\n",
       "57           9.394333      6\n",
       "28           9.365818     22\n",
       "46           9.049182     33\n",
       "25           9.028167      6\n",
       "53           8.879727     11\n",
       "32           8.753000     26\n",
       "44           8.737943     35\n",
       "30           8.722176     17\n",
       "50           8.647444      9\n",
       "45           8.544077     26\n",
       "39           8.510529     34\n",
       "40           8.465273     44\n",
       "27           8.385167     12\n",
       "33           8.382625     32\n",
       "52           8.370750     12\n",
       "37           8.323586     29\n",
       "54           8.256667      9\n",
       "34           8.231273     33\n",
       "43           8.197667     39\n",
       "35           8.154571     28\n",
       "36           8.137324     34\n",
       "29           8.125600     10\n",
       "47           8.065050     20\n",
       "38           8.052794     34\n",
       "42           8.008353     34\n",
       "41           7.935688     32\n",
       "31           7.917955     22\n",
       "51           7.913818     11\n",
       "48           7.787125     16\n",
       "26           7.517000      8"
      ]
     },
     "execution_count": 27,
     "metadata": {},
     "output_type": "execute_result"
    }
   ],
   "source": [
    "df3.groupby('athlete age')['Athlete average speed'].agg(['mean','count']).sort_values('mean',ascending = False).query('count>5')"
   ]
  },
  {
   "cell_type": "code",
   "execution_count": 28,
   "id": "a5256589-4020-4259-8667-790c90e01e15",
   "metadata": {},
   "outputs": [],
   "source": [
    "df3['race_month']=df3['race_day'].str.split('.').str.get(1).astype(int)"
   ]
  },
  {
   "cell_type": "code",
   "execution_count": 29,
   "id": "eee5ad03-8210-4cff-86b9-e8f6a4582c70",
   "metadata": {},
   "outputs": [],
   "source": [
    "#race season\n",
    "#is summer slowert than winter?\n",
    "\n",
    "df3['race_month']= df3['race_day'].str.split('.').str.get(1).astype(int)\n"
   ]
  },
  {
   "cell_type": "code",
   "execution_count": 30,
   "id": "629d954b-287d-42f8-9dbd-e081e6edcc64",
   "metadata": {},
   "outputs": [],
   "source": [
    "df3['race_season'] = df3['race_month'].apply(lambda x:'Winter' if x>11 else 'Fall' if x >8 else 'Summer' if x > 5 else \n",
    "                                              'Spring' if x>2 else 'Winter')"
   ]
  },
  {
   "cell_type": "code",
   "execution_count": 31,
   "id": "f8f34e08-9a24-4478-a737-c7f68a210881",
   "metadata": {},
   "outputs": [
    {
     "data": {
      "text/html": [
       "<div>\n",
       "<style scoped>\n",
       "    .dataframe tbody tr th:only-of-type {\n",
       "        vertical-align: middle;\n",
       "    }\n",
       "\n",
       "    .dataframe tbody tr th {\n",
       "        vertical-align: top;\n",
       "    }\n",
       "\n",
       "    .dataframe thead th {\n",
       "        text-align: right;\n",
       "    }\n",
       "</style>\n",
       "<table border=\"1\" class=\"dataframe\">\n",
       "  <thead>\n",
       "    <tr style=\"text-align: right;\">\n",
       "      <th></th>\n",
       "      <th>mean</th>\n",
       "      <th>count</th>\n",
       "    </tr>\n",
       "    <tr>\n",
       "      <th>race_season</th>\n",
       "      <th></th>\n",
       "      <th></th>\n",
       "    </tr>\n",
       "  </thead>\n",
       "  <tbody>\n",
       "    <tr>\n",
       "      <th>Fall</th>\n",
       "      <td>10.825277</td>\n",
       "      <td>177</td>\n",
       "    </tr>\n",
       "    <tr>\n",
       "      <th>Summer</th>\n",
       "      <td>8.473313</td>\n",
       "      <td>96</td>\n",
       "    </tr>\n",
       "    <tr>\n",
       "      <th>Spring</th>\n",
       "      <td>7.417500</td>\n",
       "      <td>444</td>\n",
       "    </tr>\n",
       "  </tbody>\n",
       "</table>\n",
       "</div>"
      ],
      "text/plain": [
       "                  mean  count\n",
       "race_season                  \n",
       "Fall         10.825277    177\n",
       "Summer        8.473313     96\n",
       "Spring        7.417500    444"
      ]
     },
     "execution_count": 31,
     "metadata": {},
     "output_type": "execute_result"
    }
   ],
   "source": [
    "df3.groupby('race_season')['Athlete average speed'].agg(['mean','count']).sort_values('mean' ,ascending=False)"
   ]
  },
  {
   "cell_type": "code",
   "execution_count": null,
   "id": "c36107a1-e19c-469a-aa3e-683638f91bf9",
   "metadata": {},
   "outputs": [],
   "source": []
  }
 ],
 "metadata": {
  "kernelspec": {
   "display_name": "Python 3 (ipykernel)",
   "language": "python",
   "name": "python3"
  },
  "language_info": {
   "codemirror_mode": {
    "name": "ipython",
    "version": 3
   },
   "file_extension": ".py",
   "mimetype": "text/x-python",
   "name": "python",
   "nbconvert_exporter": "python",
   "pygments_lexer": "ipython3",
   "version": "3.12.2"
  }
 },
 "nbformat": 4,
 "nbformat_minor": 5
}
